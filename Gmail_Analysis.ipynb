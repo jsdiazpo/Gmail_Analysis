{
 "cells": [
  {
   "cell_type": "markdown",
   "metadata": {},
   "source": [
    "# Gmail analysis\n",
    "### Exploring more than 13 years of Gmail messages\n",
    "\n",
    "I learned recently that Google allows its users to download metadata for all the messages sent and received through Gmail. This leads to interesting insights to be found in the data: *What are the most common people I have been in touch with? What days of the week or time of the day have the highest trafic?* In order to explore these and other questions I decided to request my data and perform the present analysis.\n",
    "\n",
    "The first step is [requesting the data](https://takeout.google.com/settings/takeout). There is data available for several Google services, only the Gmail data is used here. Depending on the amount of data the request can take several hours (my file is 8.2GB). Once we notified that the file is ready to be downloaded, the data will come in a special format called `mailbox`. After importing some useful modules we can explore and clean the data."
   ]
  },
  {
   "cell_type": "code",
   "execution_count": 1,
   "metadata": {
    "collapsed": true
   },
   "outputs": [],
   "source": [
    "import mailbox\n",
    "import pandas as pd\n",
    "import csv\n",
    "import unicodedata\n",
    "import matplotlib.pyplot as plt\n",
    "%matplotlib inline\n",
    "import seaborn as sns\n",
    "sns.set(rc={'figure.facecolor':'white'})\n",
    "#import dateparser\n",
    "\n",
    "from time import time"
   ]
  },
  {
   "cell_type": "markdown",
   "metadata": {},
   "source": [
    "## 1. Data preprocessing\n",
    "We begin the analysis by saving the data file `gmail_data.mbox` in a directory called `data` (for privacy reasons, this file is absent from the Github repository). The file can be loaded using the `mailbox` module"
   ]
  },
  {
   "cell_type": "code",
   "execution_count": 2,
   "metadata": {},
   "outputs": [
    {
     "name": "stdout",
     "output_type": "stream",
     "text": [
      "samples: 69988\n"
     ]
    }
   ],
   "source": [
    "dir_path = 'data/'\n",
    "filename = 'gmail_data.mbox'\n",
    "file_path = dir_path + filename\n",
    "mbox = mailbox.mbox(file_path)\n",
    "print('samples:', len(mbox))"
   ]
  },
  {
   "cell_type": "markdown",
   "metadata": {},
   "source": [
    "The file contains 69,988 samples. Even though these are mostly email messages, many other entry types are counted, such as drafts and chats. These can be removed by filtering by Gmail label. The file contains the following labels"
   ]
  },
  {
   "cell_type": "code",
   "execution_count": 3,
   "metadata": {},
   "outputs": [
    {
     "name": "stdout",
     "output_type": "stream",
     "text": [
      "1 X-GM-THRID\n",
      "2 X-Gmail-Labels\n",
      "3 MIME-Version\n",
      "4 Received\n",
      "5 Date\n",
      "6 Delivered-To\n",
      "7 Message-ID\n",
      "8 Subject\n",
      "9 From\n",
      "10 To\n",
      "11 Content-Type\n"
     ]
    }
   ],
   "source": [
    "# print labels\n",
    "for i, key in enumerate(mbox[0].keys()):\n",
    "    print(i+1, key)"
   ]
  },
  {
   "cell_type": "markdown",
   "metadata": {},
   "source": [
    "We find that there are several section of little interest. In order to avoid loading unnecessary information, we can extract the fields of interest and put them into a `pandas` dataframe for further processing. We are interested in the following fields: `subject`, `from`, `to`, `date`, and `Gmail-label`."
   ]
  },
  {
   "cell_type": "code",
   "execution_count": 8,
   "metadata": {
    "collapsed": true
   },
   "outputs": [],
   "source": [
    "t0 = time()\n",
    "subject = []\n",
    "from_ = []\n",
    "to = []\n",
    "date = []\n",
    "label = []\n",
    "for i, message in enumerate(mbox):\n",
    "    try:\n",
    "        if i%2000 == 0:\n",
    "            print(i, end=' ')\n",
    "        subject.append(message['subject'])\n",
    "        from_.append(message['from'])\n",
    "        to.append(message['to'])\n",
    "        date.append(message['date'])\n",
    "        label.append(message['X-Gmail-Labels'])\n",
    "    except:\n",
    "        print(i, end=' ')\n",
    "        print('subject', subject[i])\n",
    "        print('from', from_[i])\n",
    "        print('to', to[i])\n",
    "        print('date', date[i])\n",
    "        print('label', label[i])\n",
    "print('\\ntime: {:.1f} min'.format((time()-t0)/60))"
   ]
  },
  {
   "cell_type": "code",
   "execution_count": null,
   "metadata": {
    "collapsed": true
   },
   "outputs": [],
   "source": []
  },
  {
   "cell_type": "code",
   "execution_count": 11,
   "metadata": {
    "collapsed": true
   },
   "outputs": [],
   "source": [
    "df = pd.DataFrame()\n",
    "df['subject'] = subject\n",
    "df['from'] = from_\n",
    "df['to'] = to\n",
    "df['date'] = date\n",
    "df['label'] = label"
   ]
  },
  {
   "cell_type": "code",
   "execution_count": 19,
   "metadata": {},
   "outputs": [
    {
     "data": {
      "text/html": [
       "<div>\n",
       "<style>\n",
       "    .dataframe thead tr:only-child th {\n",
       "        text-align: right;\n",
       "    }\n",
       "\n",
       "    .dataframe thead th {\n",
       "        text-align: left;\n",
       "    }\n",
       "\n",
       "    .dataframe tbody tr th {\n",
       "        vertical-align: top;\n",
       "    }\n",
       "</style>\n",
       "<table border=\"1\" class=\"dataframe\">\n",
       "  <thead>\n",
       "    <tr style=\"text-align: right;\">\n",
       "      <th></th>\n",
       "      <th>subject</th>\n",
       "      <th>date</th>\n",
       "      <th>label</th>\n",
       "    </tr>\n",
       "  </thead>\n",
       "  <tbody>\n",
       "    <tr>\n",
       "      <th>0</th>\n",
       "      <td>consulta DS</td>\n",
       "      <td>Tue, 8 Aug 2017 11:20:05 +0200</td>\n",
       "      <td>Important,Sent</td>\n",
       "    </tr>\n",
       "    <tr>\n",
       "      <th>1</th>\n",
       "      <td>Re: consulta DS</td>\n",
       "      <td>Tue, 08 Aug 2017 10:35:39 +0100</td>\n",
       "      <td>Important,Inbox</td>\n",
       "    </tr>\n",
       "    <tr>\n",
       "      <th>2</th>\n",
       "      <td>Re: consulta DS</td>\n",
       "      <td>Tue, 08 Aug 2017 10:43:30 +0100</td>\n",
       "      <td>Important,Inbox</td>\n",
       "    </tr>\n",
       "    <tr>\n",
       "      <th>3</th>\n",
       "      <td>Re: consulta DS</td>\n",
       "      <td>Tue, 8 Aug 2017 13:16:37 +0200</td>\n",
       "      <td>Sent</td>\n",
       "    </tr>\n",
       "    <tr>\n",
       "      <th>4</th>\n",
       "      <td>NaN</td>\n",
       "      <td>Sun, 19 Nov 2017 14:28:18 +0100</td>\n",
       "      <td>Important,Inbox</td>\n",
       "    </tr>\n",
       "  </tbody>\n",
       "</table>\n",
       "</div>"
      ],
      "text/plain": [
       "           subject                             date            label\n",
       "0      consulta DS   Tue, 8 Aug 2017 11:20:05 +0200   Important,Sent\n",
       "1  Re: consulta DS  Tue, 08 Aug 2017 10:35:39 +0100  Important,Inbox\n",
       "2  Re: consulta DS  Tue, 08 Aug 2017 10:43:30 +0100  Important,Inbox\n",
       "3  Re: consulta DS   Tue, 8 Aug 2017 13:16:37 +0200             Sent\n",
       "4              NaN  Sun, 19 Nov 2017 14:28:18 +0100  Important,Inbox"
      ]
     },
     "execution_count": 19,
     "metadata": {},
     "output_type": "execute_result"
    }
   ],
   "source": [
    "df[['subject', 'date', 'label']].head()"
   ]
  },
  {
   "cell_type": "markdown",
   "metadata": {},
   "source": [
    "My Gmail data contains mostly messages in English; however, there is plenty of Spanish and German, which introduce special characters that can lead to encoding issues. For this reason, it is better to encode special characters such as `ñ` and letters with accents and umlauts"
   ]
  },
  {
   "cell_type": "code",
   "execution_count": null,
   "metadata": {
    "collapsed": true
   },
   "outputs": [],
   "source": [
    "def remove_accents(text):\n",
    "    text = str(text)\n",
    "    nfkd_norm = unicodedata.normalize('NFKD', text)\n",
    "    text = nfkd_norm.encode('ASCII', 'ignore').decode('utf-8')\n",
    "    return text"
   ]
  },
  {
   "cell_type": "code",
   "execution_count": null,
   "metadata": {
    "collapsed": true
   },
   "outputs": [],
   "source": [
    "df['subject'] = df['subject'].map(remove_accents)"
   ]
  },
  {
   "cell_type": "markdown",
   "metadata": {},
   "source": [
    "After cleaning the `subject` field, we can get a general overview of the integrity of different fields"
   ]
  },
  {
   "cell_type": "code",
   "execution_count": 20,
   "metadata": {},
   "outputs": [
    {
     "name": "stdout",
     "output_type": "stream",
     "text": [
      "<class 'pandas.core.frame.DataFrame'>\n",
      "RangeIndex: 69988 entries, 0 to 69987\n",
      "Data columns (total 5 columns):\n",
      "subject    66828 non-null object\n",
      "from       69988 non-null object\n",
      "to         55762 non-null object\n",
      "date       56735 non-null object\n",
      "label      69604 non-null object\n",
      "dtypes: object(5)\n",
      "memory usage: 2.7+ MB\n"
     ]
    }
   ],
   "source": [
    "df.info()"
   ]
  },
  {
   "cell_type": "markdown",
   "metadata": {},
   "source": [
    "We find that `date`, one of the most relevant fields, contains many null entries (mostly from chat entries)"
   ]
  },
  {
   "cell_type": "code",
   "execution_count": 29,
   "metadata": {},
   "outputs": [
    {
     "data": {
      "text/html": [
       "<div>\n",
       "<style>\n",
       "    .dataframe thead tr:only-child th {\n",
       "        text-align: right;\n",
       "    }\n",
       "\n",
       "    .dataframe thead th {\n",
       "        text-align: left;\n",
       "    }\n",
       "\n",
       "    .dataframe tbody tr th {\n",
       "        vertical-align: top;\n",
       "    }\n",
       "</style>\n",
       "<table border=\"1\" class=\"dataframe\">\n",
       "  <thead>\n",
       "    <tr style=\"text-align: right;\">\n",
       "      <th></th>\n",
       "      <th>subject</th>\n",
       "      <th>to</th>\n",
       "      <th>date</th>\n",
       "      <th>label</th>\n",
       "    </tr>\n",
       "  </thead>\n",
       "  <tbody>\n",
       "    <tr>\n",
       "      <th>16</th>\n",
       "      <td>None</td>\n",
       "      <td>NaN</td>\n",
       "      <td>NaN</td>\n",
       "      <td>Chat</td>\n",
       "    </tr>\n",
       "    <tr>\n",
       "      <th>26</th>\n",
       "      <td>None</td>\n",
       "      <td>NaN</td>\n",
       "      <td>NaN</td>\n",
       "      <td>Chat</td>\n",
       "    </tr>\n",
       "    <tr>\n",
       "      <th>90</th>\n",
       "      <td>None</td>\n",
       "      <td>NaN</td>\n",
       "      <td>NaN</td>\n",
       "      <td>Chat</td>\n",
       "    </tr>\n",
       "    <tr>\n",
       "      <th>91</th>\n",
       "      <td>None</td>\n",
       "      <td>NaN</td>\n",
       "      <td>NaN</td>\n",
       "      <td>Chat</td>\n",
       "    </tr>\n",
       "    <tr>\n",
       "      <th>92</th>\n",
       "      <td>None</td>\n",
       "      <td>NaN</td>\n",
       "      <td>NaN</td>\n",
       "      <td>Chat</td>\n",
       "    </tr>\n",
       "  </tbody>\n",
       "</table>\n",
       "</div>"
      ],
      "text/plain": [
       "   subject   to date label\n",
       "16    None  NaN  NaN  Chat\n",
       "26    None  NaN  NaN  Chat\n",
       "90    None  NaN  NaN  Chat\n",
       "91    None  NaN  NaN  Chat\n",
       "92    None  NaN  NaN  Chat"
      ]
     },
     "execution_count": 29,
     "metadata": {},
     "output_type": "execute_result"
    }
   ],
   "source": [
    "df[df['date'].isnull()][['subject', 'to', 'date']].head()"
   ]
  },
  {
   "cell_type": "markdown",
   "metadata": {},
   "source": [
    "The total number of null entries is"
   ]
  },
  {
   "cell_type": "code",
   "execution_count": 31,
   "metadata": {},
   "outputs": [
    {
     "data": {
      "text/plain": [
       "56735"
      ]
     },
     "execution_count": 31,
     "metadata": {},
     "output_type": "execute_result"
    }
   ],
   "source": [
    "len(df[df['date'].isnull()])"
   ]
  },
  {
   "cell_type": "markdown",
   "metadata": {},
   "source": [
    "All these entries can be removed"
   ]
  },
  {
   "cell_type": "code",
   "execution_count": 32,
   "metadata": {
    "collapsed": true
   },
   "outputs": [],
   "source": [
    "# delete null rows\n",
    "df = df[df['date'].notnull()]"
   ]
  },
  {
   "cell_type": "code",
   "execution_count": 33,
   "metadata": {},
   "outputs": [
    {
     "data": {
      "text/plain": [
       "56735"
      ]
     },
     "execution_count": 33,
     "metadata": {},
     "output_type": "execute_result"
    }
   ],
   "source": [
    "len(df)"
   ]
  },
  {
   "cell_type": "markdown",
   "metadata": {},
   "source": [
    "We can now focus on the `date` field. The next goal is to transform the class type: dates are given as strings"
   ]
  },
  {
   "cell_type": "code",
   "execution_count": 34,
   "metadata": {},
   "outputs": [
    {
     "data": {
      "text/html": [
       "<div>\n",
       "<style>\n",
       "    .dataframe thead tr:only-child th {\n",
       "        text-align: right;\n",
       "    }\n",
       "\n",
       "    .dataframe thead th {\n",
       "        text-align: left;\n",
       "    }\n",
       "\n",
       "    .dataframe tbody tr th {\n",
       "        vertical-align: top;\n",
       "    }\n",
       "</style>\n",
       "<table border=\"1\" class=\"dataframe\">\n",
       "  <thead>\n",
       "    <tr style=\"text-align: right;\">\n",
       "      <th></th>\n",
       "      <th>date</th>\n",
       "    </tr>\n",
       "  </thead>\n",
       "  <tbody>\n",
       "    <tr>\n",
       "      <th>0</th>\n",
       "      <td>Tue, 8 Aug 2017 11:20:05 +0200</td>\n",
       "    </tr>\n",
       "    <tr>\n",
       "      <th>1</th>\n",
       "      <td>Tue, 08 Aug 2017 10:35:39 +0100</td>\n",
       "    </tr>\n",
       "    <tr>\n",
       "      <th>2</th>\n",
       "      <td>Tue, 08 Aug 2017 10:43:30 +0100</td>\n",
       "    </tr>\n",
       "    <tr>\n",
       "      <th>3</th>\n",
       "      <td>Tue, 8 Aug 2017 13:16:37 +0200</td>\n",
       "    </tr>\n",
       "    <tr>\n",
       "      <th>4</th>\n",
       "      <td>Sun, 19 Nov 2017 14:28:18 +0100</td>\n",
       "    </tr>\n",
       "  </tbody>\n",
       "</table>\n",
       "</div>"
      ],
      "text/plain": [
       "                              date\n",
       "0   Tue, 8 Aug 2017 11:20:05 +0200\n",
       "1  Tue, 08 Aug 2017 10:35:39 +0100\n",
       "2  Tue, 08 Aug 2017 10:43:30 +0100\n",
       "3   Tue, 8 Aug 2017 13:16:37 +0200\n",
       "4  Sun, 19 Nov 2017 14:28:18 +0100"
      ]
     },
     "execution_count": 34,
     "metadata": {},
     "output_type": "execute_result"
    }
   ],
   "source": [
    "df[['date']].head()"
   ]
  },
  {
   "cell_type": "markdown",
   "metadata": {},
   "source": [
    "These string dates can be converted into timestamps using the converted available for dataframes"
   ]
  },
  {
   "cell_type": "code",
   "execution_count": 7,
   "metadata": {
    "collapsed": true
   },
   "outputs": [],
   "source": [
    "df['date'] = df['date'].apply(lambda x: pd.to_datetime(x, errors='coerce', utc=True))"
   ]
  },
  {
   "cell_type": "markdown",
   "metadata": {},
   "source": [
    "Some dates have unappropriate shape for conversion (these are drafts of spam messages), which can be simply removed"
   ]
  },
  {
   "cell_type": "code",
   "execution_count": 23,
   "metadata": {
    "collapsed": true
   },
   "outputs": [],
   "source": [
    "df = df[df['date'].notnull()]"
   ]
  },
  {
   "cell_type": "markdown",
   "metadata": {},
   "source": [
    "Given that the date is now a timestamp, messages can be easily sorted by date, after which the dataframe index must be reset"
   ]
  },
  {
   "cell_type": "code",
   "execution_count": 27,
   "metadata": {
    "collapsed": true
   },
   "outputs": [],
   "source": [
    "df = df.sort_values(['date'], ascending=False)\n",
    "df = df.reset_index(drop=True)"
   ]
  },
  {
   "cell_type": "markdown",
   "metadata": {},
   "source": [
    "The most recent messages are the following"
   ]
  },
  {
   "cell_type": "code",
   "execution_count": 9,
   "metadata": {},
   "outputs": [
    {
     "data": {
      "text/html": [
       "<div>\n",
       "<style>\n",
       "    .dataframe thead tr:only-child th {\n",
       "        text-align: right;\n",
       "    }\n",
       "\n",
       "    .dataframe thead th {\n",
       "        text-align: left;\n",
       "    }\n",
       "\n",
       "    .dataframe tbody tr th {\n",
       "        vertical-align: top;\n",
       "    }\n",
       "</style>\n",
       "<table border=\"1\" class=\"dataframe\">\n",
       "  <thead>\n",
       "    <tr style=\"text-align: right;\">\n",
       "      <th></th>\n",
       "      <th>subject</th>\n",
       "      <th>date</th>\n",
       "      <th>label</th>\n",
       "    </tr>\n",
       "  </thead>\n",
       "  <tbody>\n",
       "    <tr>\n",
       "      <th>0</th>\n",
       "      <td>Your Google data archive is ready</td>\n",
       "      <td>2018-01-27 18:30:32+00:00</td>\n",
       "      <td>Important,Inbox</td>\n",
       "    </tr>\n",
       "    <tr>\n",
       "      <th>1</th>\n",
       "      <td>None</td>\n",
       "      <td>2018-01-27 17:48:17+00:00</td>\n",
       "      <td>Important,Jan</td>\n",
       "    </tr>\n",
       "    <tr>\n",
       "      <th>2</th>\n",
       "      <td>NaN</td>\n",
       "      <td>2018-01-27 17:17:36+00:00</td>\n",
       "      <td>Drafts</td>\n",
       "    </tr>\n",
       "    <tr>\n",
       "      <th>3</th>\n",
       "      <td>NaN</td>\n",
       "      <td>2018-01-27 10:21:42+00:00</td>\n",
       "      <td>Unread,old_stuff/_KIT,Spam</td>\n",
       "    </tr>\n",
       "    <tr>\n",
       "      <th>4</th>\n",
       "      <td>easy loan to obtain</td>\n",
       "      <td>2018-01-26 20:36:15+00:00</td>\n",
       "      <td>Unread,Spam</td>\n",
       "    </tr>\n",
       "    <tr>\n",
       "      <th>5</th>\n",
       "      <td>=?utf-8?Q?The=20Support=20Your=20Student=20Bod...</td>\n",
       "      <td>2018-01-26 20:24:02+00:00</td>\n",
       "      <td>Unread,Spam</td>\n",
       "    </tr>\n",
       "    <tr>\n",
       "      <th>6</th>\n",
       "      <td>None</td>\n",
       "      <td>2018-01-26 18:59:24+00:00</td>\n",
       "      <td>Important,Jan</td>\n",
       "    </tr>\n",
       "    <tr>\n",
       "      <th>7</th>\n",
       "      <td>aantonop: \"Bitcoin Q&amp;A: Layered scaling and pr...</td>\n",
       "      <td>2018-01-26 17:47:20+00:00</td>\n",
       "      <td>Trash</td>\n",
       "    </tr>\n",
       "  </tbody>\n",
       "</table>\n",
       "</div>"
      ],
      "text/plain": [
       "                                             subject  \\\n",
       "0                  Your Google data archive is ready   \n",
       "1                                               None   \n",
       "2                                                NaN   \n",
       "3                                                NaN   \n",
       "4                                easy loan to obtain   \n",
       "5  =?utf-8?Q?The=20Support=20Your=20Student=20Bod...   \n",
       "6                                               None   \n",
       "7  aantonop: \"Bitcoin Q&A: Layered scaling and pr...   \n",
       "\n",
       "                        date                       label  \n",
       "0  2018-01-27 18:30:32+00:00             Important,Inbox  \n",
       "1  2018-01-27 17:48:17+00:00               Important,Jan  \n",
       "2  2018-01-27 17:17:36+00:00                      Drafts  \n",
       "3  2018-01-27 10:21:42+00:00  Unread,old_stuff/_KIT,Spam  \n",
       "4  2018-01-26 20:36:15+00:00                 Unread,Spam  \n",
       "5  2018-01-26 20:24:02+00:00                 Unread,Spam  \n",
       "6  2018-01-26 18:59:24+00:00               Important,Jan  \n",
       "7  2018-01-26 17:47:20+00:00                       Trash  "
      ]
     },
     "execution_count": 9,
     "metadata": {},
     "output_type": "execute_result"
    }
   ],
   "source": [
    "df[['subject', 'date', 'label']].head(8)"
   ]
  },
  {
   "cell_type": "markdown",
   "metadata": {},
   "source": [
    "where the most recent message is the notification from Gmail to download the data used here. The oldest messages are"
   ]
  },
  {
   "cell_type": "code",
   "execution_count": 11,
   "metadata": {},
   "outputs": [
    {
     "data": {
      "text/html": [
       "<div>\n",
       "<style>\n",
       "    .dataframe thead tr:only-child th {\n",
       "        text-align: right;\n",
       "    }\n",
       "\n",
       "    .dataframe thead th {\n",
       "        text-align: left;\n",
       "    }\n",
       "\n",
       "    .dataframe tbody tr th {\n",
       "        vertical-align: top;\n",
       "    }\n",
       "</style>\n",
       "<table border=\"1\" class=\"dataframe\">\n",
       "  <thead>\n",
       "    <tr style=\"text-align: right;\">\n",
       "      <th></th>\n",
       "      <th>subject</th>\n",
       "      <th>date</th>\n",
       "      <th>label</th>\n",
       "    </tr>\n",
       "  </thead>\n",
       "  <tbody>\n",
       "    <tr>\n",
       "      <th>51986</th>\n",
       "      <td>Re: Asamblea</td>\n",
       "      <td>2004-10-05 14:21:47+00:00</td>\n",
       "      <td>Inbox</td>\n",
       "    </tr>\n",
       "    <tr>\n",
       "      <th>51987</th>\n",
       "      <td>Asamblea</td>\n",
       "      <td>2004-10-05 12:55:58+00:00</td>\n",
       "      <td>Inbox</td>\n",
       "    </tr>\n",
       "    <tr>\n",
       "      <th>51988</th>\n",
       "      <td>None</td>\n",
       "      <td>2004-10-01 22:06:10+00:00</td>\n",
       "      <td>Inbox</td>\n",
       "    </tr>\n",
       "    <tr>\n",
       "      <th>51989</th>\n",
       "      <td>NaN</td>\n",
       "      <td>2004-09-29 18:24:55+00:00</td>\n",
       "      <td>Sent</td>\n",
       "    </tr>\n",
       "    <tr>\n",
       "      <th>51990</th>\n",
       "      <td>Web del teste para el cambio (fwd)</td>\n",
       "      <td>2004-09-27 19:43:40+00:00</td>\n",
       "      <td>Inbox</td>\n",
       "    </tr>\n",
       "    <tr>\n",
       "      <th>51991</th>\n",
       "      <td>=?ISO-8859-1?B?SW5mb3JtYWNp824=?=\\n\\tSegunda E...</td>\n",
       "      <td>2004-09-27 16:42:58+00:00</td>\n",
       "      <td>Inbox</td>\n",
       "    </tr>\n",
       "    <tr>\n",
       "      <th>51992</th>\n",
       "      <td>de dayton</td>\n",
       "      <td>2004-09-14 23:29:03+00:00</td>\n",
       "      <td>Inbox</td>\n",
       "    </tr>\n",
       "    <tr>\n",
       "      <th>51993</th>\n",
       "      <td>Escuela del CERN</td>\n",
       "      <td>2004-09-14 14:58:38+00:00</td>\n",
       "      <td>Inbox</td>\n",
       "    </tr>\n",
       "    <tr>\n",
       "      <th>51994</th>\n",
       "      <td>NaN</td>\n",
       "      <td>2004-09-10 17:03:41+00:00</td>\n",
       "      <td>Inbox</td>\n",
       "    </tr>\n",
       "  </tbody>\n",
       "</table>\n",
       "</div>"
      ],
      "text/plain": [
       "                                                 subject  \\\n",
       "51986                                       Re: Asamblea   \n",
       "51987                                           Asamblea   \n",
       "51988                                               None   \n",
       "51989                                                NaN   \n",
       "51990                 Web del teste para el cambio (fwd)   \n",
       "51991  =?ISO-8859-1?B?SW5mb3JtYWNp824=?=\\n\\tSegunda E...   \n",
       "51992                                          de dayton   \n",
       "51993                                   Escuela del CERN   \n",
       "51994                                                NaN   \n",
       "\n",
       "                            date  label  \n",
       "51986  2004-10-05 14:21:47+00:00  Inbox  \n",
       "51987  2004-10-05 12:55:58+00:00  Inbox  \n",
       "51988  2004-10-01 22:06:10+00:00  Inbox  \n",
       "51989  2004-09-29 18:24:55+00:00   Sent  \n",
       "51990  2004-09-27 19:43:40+00:00  Inbox  \n",
       "51991  2004-09-27 16:42:58+00:00  Inbox  \n",
       "51992  2004-09-14 23:29:03+00:00  Inbox  \n",
       "51993  2004-09-14 14:58:38+00:00  Inbox  \n",
       "51994  2004-09-10 17:03:41+00:00  Inbox  "
      ]
     },
     "execution_count": 11,
     "metadata": {},
     "output_type": "execute_result"
    }
   ],
   "source": [
    "df[['subject', 'date', 'label']].tail(9)"
   ]
  },
  {
   "cell_type": "markdown",
   "metadata": {
    "collapsed": true
   },
   "source": [
    "Finally, there are many messages in the `Drafts` folder that should also be removed"
   ]
  },
  {
   "cell_type": "code",
   "execution_count": 317,
   "metadata": {
    "collapsed": true
   },
   "outputs": [],
   "source": [
    "df = df[df['label'] != 'Drafts']"
   ]
  },
  {
   "cell_type": "markdown",
   "metadata": {},
   "source": [
    "The same applies for `Spam` messages. Unfortunately, this label does not appear alone so it must be searched in the `label` column"
   ]
  },
  {
   "cell_type": "code",
   "execution_count": 406,
   "metadata": {
    "collapsed": true
   },
   "outputs": [],
   "source": [
    "cnt = 0\n",
    "idx_to_remove = []\n",
    "for i, lab in enumerate(df['label']):\n",
    "    if 'Spam' in str(lab):\n",
    "        idx_to_remove.append(i)\n",
    "        \n",
    "df = df.drop(df.index[idx_to_remove])\n",
    "df = df.reset_index(drop=True)"
   ]
  },
  {
   "cell_type": "markdown",
   "metadata": {},
   "source": [
    "At this point, and given the time used for cleaning the data file, it is a good idea to export it as a `csv` file for future use without the need of redoing the preprocessing above."
   ]
  },
  {
   "cell_type": "code",
   "execution_count": 407,
   "metadata": {
    "collapsed": true
   },
   "outputs": [],
   "source": [
    "df.to_csv('data/gmail_data_preprocessed.csv', \n",
    "          encoding='utf-8', index=False)"
   ]
  },
  {
   "cell_type": "code",
   "execution_count": null,
   "metadata": {
    "collapsed": true
   },
   "outputs": [],
   "source": []
  },
  {
   "cell_type": "markdown",
   "metadata": {},
   "source": [
    "## 2. Data exploration\n",
    "\n",
    "We can now begin exploring the data set."
   ]
  },
  {
   "cell_type": "code",
   "execution_count": 408,
   "metadata": {},
   "outputs": [
    {
     "data": {
      "text/plain": [
       "51423"
      ]
     },
     "execution_count": 408,
     "metadata": {},
     "output_type": "execute_result"
    }
   ],
   "source": [
    "df = pd.read_csv('data/gmail_data_preprocessed.csv')\n",
    "len(df)"
   ]
  },
  {
   "cell_type": "markdown",
   "metadata": {},
   "source": [
    "Since the data was loaded from a `csv` file, the dates are back as `str` so they must be converted into `timestamp` again"
   ]
  },
  {
   "cell_type": "code",
   "execution_count": 409,
   "metadata": {
    "collapsed": true
   },
   "outputs": [],
   "source": [
    "df['date'] = df['date'].apply(lambda x: pd.to_datetime(x))#, errors='coerce', utc=True))"
   ]
  },
  {
   "cell_type": "markdown",
   "metadata": {},
   "source": [
    "For simplicity, all messages written by me or sent to me can be labeled by the string `me` instead of my email address. This will make the identification of incoming and outgoing emails easier. For this the following helper function returns `me` my email address is found and leaves the text unchanged, otherwise:"
   ]
  },
  {
   "cell_type": "code",
   "execution_count": 355,
   "metadata": {
    "collapsed": true
   },
   "outputs": [],
   "source": [
    "def rename_me(txt):\n",
    "    txt = str(txt).lower()\n",
    "    if('jsdiaz' in txt or\n",
    "       'jorge.diaz' in txt):\n",
    "        txt_out = 'me'\n",
    "    else:\n",
    "        txt_out = txt\n",
    "    return txt_out"
   ]
  },
  {
   "cell_type": "code",
   "execution_count": 356,
   "metadata": {
    "collapsed": true
   },
   "outputs": [],
   "source": [
    "df['from'] = df['from'].apply(rename_me)\n",
    "df['to'] = df['to'].apply(rename_me)"
   ]
  },
  {
   "cell_type": "code",
   "execution_count": 357,
   "metadata": {},
   "outputs": [
    {
     "data": {
      "text/html": [
       "<div>\n",
       "<style>\n",
       "    .dataframe thead tr:only-child th {\n",
       "        text-align: right;\n",
       "    }\n",
       "\n",
       "    .dataframe thead th {\n",
       "        text-align: left;\n",
       "    }\n",
       "\n",
       "    .dataframe tbody tr th {\n",
       "        vertical-align: top;\n",
       "    }\n",
       "</style>\n",
       "<table border=\"1\" class=\"dataframe\">\n",
       "  <thead>\n",
       "    <tr style=\"text-align: right;\">\n",
       "      <th></th>\n",
       "      <th>subject</th>\n",
       "      <th>to</th>\n",
       "      <th>date</th>\n",
       "      <th>label</th>\n",
       "    </tr>\n",
       "  </thead>\n",
       "  <tbody>\n",
       "    <tr>\n",
       "      <th>0</th>\n",
       "      <td>Your Google data archive is ready</td>\n",
       "      <td>me</td>\n",
       "      <td>2018-01-27 18:30:32</td>\n",
       "      <td>Important,Inbox</td>\n",
       "    </tr>\n",
       "    <tr>\n",
       "      <th>1</th>\n",
       "      <td>None</td>\n",
       "      <td>me</td>\n",
       "      <td>2018-01-27 17:48:17</td>\n",
       "      <td>Important,Jan</td>\n",
       "    </tr>\n",
       "    <tr>\n",
       "      <th>2</th>\n",
       "      <td>NaN</td>\n",
       "      <td>alert.icrrme@gmail.com</td>\n",
       "      <td>2018-01-27 10:21:42</td>\n",
       "      <td>Unread,old_stuff/_KIT,Spam</td>\n",
       "    </tr>\n",
       "    <tr>\n",
       "      <th>3</th>\n",
       "      <td>easy loan to obtain</td>\n",
       "      <td>recipients &lt;fp@gmail.com&gt;</td>\n",
       "      <td>2018-01-26 20:36:15</td>\n",
       "      <td>Unread,Spam</td>\n",
       "    </tr>\n",
       "    <tr>\n",
       "      <th>4</th>\n",
       "      <td>=?utf-8?Q?The=20Support=20Your=20Student=20Bod...</td>\n",
       "      <td>me</td>\n",
       "      <td>2018-01-26 20:24:02</td>\n",
       "      <td>Unread,Spam</td>\n",
       "    </tr>\n",
       "  </tbody>\n",
       "</table>\n",
       "</div>"
      ],
      "text/plain": [
       "                                             subject  \\\n",
       "0                  Your Google data archive is ready   \n",
       "1                                               None   \n",
       "2                                                NaN   \n",
       "3                                easy loan to obtain   \n",
       "4  =?utf-8?Q?The=20Support=20Your=20Student=20Bod...   \n",
       "\n",
       "                          to                date                       label  \n",
       "0                         me 2018-01-27 18:30:32             Important,Inbox  \n",
       "1                         me 2018-01-27 17:48:17               Important,Jan  \n",
       "2     alert.icrrme@gmail.com 2018-01-27 10:21:42  Unread,old_stuff/_KIT,Spam  \n",
       "3  recipients <fp@gmail.com> 2018-01-26 20:36:15                 Unread,Spam  \n",
       "4                         me 2018-01-26 20:24:02                 Unread,Spam  "
      ]
     },
     "execution_count": 357,
     "metadata": {},
     "output_type": "execute_result"
    }
   ],
   "source": [
    "df[['subject', 'to', 'date', 'label']].head()"
   ]
  },
  {
   "cell_type": "code",
   "execution_count": 385,
   "metadata": {},
   "outputs": [
    {
     "ename": "TypeError",
     "evalue": "index() takes at least 1 argument (0 given)",
     "output_type": "error",
     "traceback": [
      "\u001b[1;31m---------------------------------------------------------------------------\u001b[0m",
      "\u001b[1;31mTypeError\u001b[0m                                 Traceback (most recent call last)",
      "\u001b[1;32m<ipython-input-385-2638185f58e2>\u001b[0m in \u001b[0;36m<module>\u001b[1;34m()\u001b[0m\n\u001b[1;32m----> 1\u001b[1;33m \u001b[0mdf\u001b[0m\u001b[1;33m[\u001b[0m\u001b[1;34m'label'\u001b[0m\u001b[1;33m]\u001b[0m\u001b[1;33m[\u001b[0m\u001b[1;36m0\u001b[0m\u001b[1;33m]\u001b[0m\u001b[1;33m.\u001b[0m\u001b[0mindex\u001b[0m\u001b[1;33m(\u001b[0m\u001b[1;33m)\u001b[0m\u001b[1;33m\u001b[0m\u001b[0m\n\u001b[0m",
      "\u001b[1;31mTypeError\u001b[0m: index() takes at least 1 argument (0 given)"
     ]
    }
   ],
   "source": [
    "df['label'][0].index()"
   ]
  },
  {
   "cell_type": "code",
   "execution_count": 399,
   "metadata": {},
   "outputs": [],
   "source": []
  },
  {
   "cell_type": "code",
   "execution_count": 403,
   "metadata": {},
   "outputs": [
    {
     "data": {
      "text/plain": [
       "51423"
      ]
     },
     "execution_count": 403,
     "metadata": {},
     "output_type": "execute_result"
    }
   ],
   "source": [
    "len(df)"
   ]
  },
  {
   "cell_type": "code",
   "execution_count": 402,
   "metadata": {},
   "outputs": [],
   "source": []
  },
  {
   "cell_type": "code",
   "execution_count": 358,
   "metadata": {
    "collapsed": true
   },
   "outputs": [],
   "source": [
    "df['count'] = [1 for _ in range(len(df))]"
   ]
  },
  {
   "cell_type": "code",
   "execution_count": 359,
   "metadata": {
    "collapsed": true
   },
   "outputs": [],
   "source": [
    "timespan = df['date']"
   ]
  },
  {
   "cell_type": "code",
   "execution_count": 360,
   "metadata": {
    "collapsed": true
   },
   "outputs": [],
   "source": [
    "data = df.copy()\n",
    "data.set_index('date', drop=True, inplace=True)"
   ]
  },
  {
   "cell_type": "code",
   "execution_count": 371,
   "metadata": {},
   "outputs": [],
   "source": [
    "data_in = data[data['to'] == 'me']\n",
    "data_out = data[data['from'] == 'me']"
   ]
  },
  {
   "cell_type": "code",
   "execution_count": 378,
   "metadata": {},
   "outputs": [
    {
     "data": {
      "image/png": "[encoded data removed]",
      "text/plain": [
       "<matplotlib.figure.Figure at 0x21d6c20c390>"
      ]
     },
     "metadata": {},
     "output_type": "display_data"
    }
   ],
   "source": [
    "weekly_in = data_in['count'].resample('M').sum()\n",
    "weekly_out= data_out['count'].resample('M').sum()\n",
    "weekly_in.plot(color='g', label='email in')\n",
    "weekly_out.plot(color='r', label='email out')\n",
    "plt.ylabel('Weekly email count')\n",
    "plt.legend();"
   ]
  },
  {
   "cell_type": "code",
   "execution_count": null,
   "metadata": {},
   "outputs": [],
   "source": []
  },
  {
   "cell_type": "code",
   "execution_count": null,
   "metadata": {
    "collapsed": true
   },
   "outputs": [],
   "source": []
  },
  {
   "cell_type": "code",
   "execution_count": null,
   "metadata": {
    "collapsed": true
   },
   "outputs": [],
   "source": []
  },
  {
   "cell_type": "code",
   "execution_count": 147,
   "metadata": {
    "collapsed": true
   },
   "outputs": [],
   "source": [
    "days = ['Monday', 'Tuesday', 'Wednesday', 'Thursday', 'Friday', 'Saturday', 'Sunday']"
   ]
  },
  {
   "cell_type": "code",
   "execution_count": 148,
   "metadata": {
    "collapsed": true
   },
   "outputs": [],
   "source": [
    "dow, day = [], []\n",
    "for i in range(len(df)):\n",
    "    try:\n",
    "        dow.append(df['date'][i].weekday())\n",
    "        day.append(days[dow[i]])\n",
    "    except:\n",
    "        print(i)"
   ]
  },
  {
   "cell_type": "code",
   "execution_count": 149,
   "metadata": {},
   "outputs": [
    {
     "data": {
      "text/plain": [
       "(51995, 51995, 51995)"
      ]
     },
     "execution_count": 149,
     "metadata": {},
     "output_type": "execute_result"
    }
   ],
   "source": [
    "len(dow), len(day), len(df)"
   ]
  },
  {
   "cell_type": "markdown",
   "metadata": {},
   "source": [
    "Create new `series` with the day of the week of the message"
   ]
  },
  {
   "cell_type": "code",
   "execution_count": 150,
   "metadata": {},
   "outputs": [
    {
     "data": {
      "text/html": [
       "<div>\n",
       "<style>\n",
       "    .dataframe thead tr:only-child th {\n",
       "        text-align: right;\n",
       "    }\n",
       "\n",
       "    .dataframe thead th {\n",
       "        text-align: left;\n",
       "    }\n",
       "\n",
       "    .dataframe tbody tr th {\n",
       "        vertical-align: top;\n",
       "    }\n",
       "</style>\n",
       "<table border=\"1\" class=\"dataframe\">\n",
       "  <thead>\n",
       "    <tr style=\"text-align: right;\">\n",
       "      <th></th>\n",
       "      <th>subject</th>\n",
       "      <th>date</th>\n",
       "      <th>dow</th>\n",
       "      <th>day</th>\n",
       "      <th>label</th>\n",
       "    </tr>\n",
       "  </thead>\n",
       "  <tbody>\n",
       "    <tr>\n",
       "      <th>0</th>\n",
       "      <td>Your Google data archive is ready</td>\n",
       "      <td>2018-01-27 18:30:32</td>\n",
       "      <td>5</td>\n",
       "      <td>Saturday</td>\n",
       "      <td>Important,Inbox</td>\n",
       "    </tr>\n",
       "    <tr>\n",
       "      <th>1</th>\n",
       "      <td>None</td>\n",
       "      <td>2018-01-27 17:48:17</td>\n",
       "      <td>5</td>\n",
       "      <td>Saturday</td>\n",
       "      <td>Important,Jan</td>\n",
       "    </tr>\n",
       "    <tr>\n",
       "      <th>2</th>\n",
       "      <td>NaN</td>\n",
       "      <td>2018-01-27 17:17:36</td>\n",
       "      <td>5</td>\n",
       "      <td>Saturday</td>\n",
       "      <td>Drafts</td>\n",
       "    </tr>\n",
       "    <tr>\n",
       "      <th>3</th>\n",
       "      <td>NaN</td>\n",
       "      <td>2018-01-27 10:21:42</td>\n",
       "      <td>5</td>\n",
       "      <td>Saturday</td>\n",
       "      <td>Unread,old_stuff/_KIT,Spam</td>\n",
       "    </tr>\n",
       "    <tr>\n",
       "      <th>4</th>\n",
       "      <td>easy loan to obtain</td>\n",
       "      <td>2018-01-26 20:36:15</td>\n",
       "      <td>4</td>\n",
       "      <td>Friday</td>\n",
       "      <td>Unread,Spam</td>\n",
       "    </tr>\n",
       "    <tr>\n",
       "      <th>5</th>\n",
       "      <td>=?utf-8?Q?The=20Support=20Your=20Student=20Bod...</td>\n",
       "      <td>2018-01-26 20:24:02</td>\n",
       "      <td>4</td>\n",
       "      <td>Friday</td>\n",
       "      <td>Unread,Spam</td>\n",
       "    </tr>\n",
       "    <tr>\n",
       "      <th>6</th>\n",
       "      <td>None</td>\n",
       "      <td>2018-01-26 18:59:24</td>\n",
       "      <td>4</td>\n",
       "      <td>Friday</td>\n",
       "      <td>Important,Jan</td>\n",
       "    </tr>\n",
       "    <tr>\n",
       "      <th>7</th>\n",
       "      <td>aantonop: \"Bitcoin Q&amp;A: Layered scaling and pr...</td>\n",
       "      <td>2018-01-26 17:47:20</td>\n",
       "      <td>4</td>\n",
       "      <td>Friday</td>\n",
       "      <td>Trash</td>\n",
       "    </tr>\n",
       "  </tbody>\n",
       "</table>\n",
       "</div>"
      ],
      "text/plain": [
       "                                             subject                date  dow  \\\n",
       "0                  Your Google data archive is ready 2018-01-27 18:30:32    5   \n",
       "1                                               None 2018-01-27 17:48:17    5   \n",
       "2                                                NaN 2018-01-27 17:17:36    5   \n",
       "3                                                NaN 2018-01-27 10:21:42    5   \n",
       "4                                easy loan to obtain 2018-01-26 20:36:15    4   \n",
       "5  =?utf-8?Q?The=20Support=20Your=20Student=20Bod... 2018-01-26 20:24:02    4   \n",
       "6                                               None 2018-01-26 18:59:24    4   \n",
       "7  aantonop: \"Bitcoin Q&A: Layered scaling and pr... 2018-01-26 17:47:20    4   \n",
       "\n",
       "        day                       label  \n",
       "0  Saturday             Important,Inbox  \n",
       "1  Saturday               Important,Jan  \n",
       "2  Saturday                      Drafts  \n",
       "3  Saturday  Unread,old_stuff/_KIT,Spam  \n",
       "4    Friday                 Unread,Spam  \n",
       "5    Friday                 Unread,Spam  \n",
       "6    Friday               Important,Jan  \n",
       "7    Friday                       Trash  "
      ]
     },
     "execution_count": 150,
     "metadata": {},
     "output_type": "execute_result"
    }
   ],
   "source": [
    "df['dow'] = dow\n",
    "df['day'] = day\n",
    "df[['subject', 'date', 'dow', 'day', 'label']].head(8)"
   ]
  },
  {
   "cell_type": "code",
   "execution_count": null,
   "metadata": {
    "collapsed": true
   },
   "outputs": [],
   "source": []
  },
  {
   "cell_type": "code",
   "execution_count": null,
   "metadata": {
    "collapsed": true
   },
   "outputs": [],
   "source": []
  },
  {
   "cell_type": "markdown",
   "metadata": {},
   "source": [
    "We can now get the distribution of messages per day of the week"
   ]
  },
  {
   "cell_type": "code",
   "execution_count": 258,
   "metadata": {
    "collapsed": true
   },
   "outputs": [],
   "source": [
    "dow_map = {}\n",
    "for i in range(7):\n",
    "    dow_map[i] = 0\n",
    "for i in df['dow']:\n",
    "    dow_map[i] += 1"
   ]
  },
  {
   "cell_type": "code",
   "execution_count": 288,
   "metadata": {},
   "outputs": [
    {
     "name": "stdout",
     "output_type": "stream",
     "text": [
      "9203 Monday\n",
      "8968 Tuesday\n",
      "9225 Wednesday\n",
      "8545 Thursday\n",
      "7960 Friday\n",
      "3400 Saturday\n",
      "3725 Sunday\n"
     ]
    }
   ],
   "source": [
    "for k,v in dow_map.items():\n",
    "    print(v, days[k])"
   ]
  },
  {
   "cell_type": "code",
   "execution_count": 286,
   "metadata": {},
   "outputs": [
    {
     "data": {
      "image/png": "[encoded data removed]",
      "text/plain": [
       "<matplotlib.figure.Figure at 0x21d6d1b7b00>"
      ]
     },
     "metadata": {},
     "output_type": "display_data"
    }
   ],
   "source": [
    "x, y = [], []\n",
    "for k,v in dow_map.items():\n",
    "    x.append(k)\n",
    "    y.append(v)\n",
    "\n",
    "plt.plot(x, y, 'o-')\n",
    "plt.axis([-0.5, 6.5, 0, 10000])\n",
    "plt.xlabel('day of the week')\n",
    "plt.ylabel('number of messages')\n",
    "plt.xticks(x, days);#, rotation='vertical')"
   ]
  },
  {
   "cell_type": "code",
   "execution_count": 153,
   "metadata": {},
   "outputs": [],
   "source": []
  },
  {
   "cell_type": "code",
   "execution_count": null,
   "metadata": {
    "collapsed": true
   },
   "outputs": [],
   "source": []
  },
  {
   "cell_type": "code",
   "execution_count": 176,
   "metadata": {
    "collapsed": true
   },
   "outputs": [],
   "source": [
    "def rename(txt, list_to_rename, new_name):\n",
    "    txt = str(txt)\n",
    "    for name in list_to_rename:\n",
    "        if name in txt.lower():\n",
    "            txt_out = new_name\n",
    "            break\n",
    "        else:\n",
    "            txt_out = txt\n",
    "    return txt_out"
   ]
  },
  {
   "cell_type": "code",
   "execution_count": 177,
   "metadata": {
    "collapsed": true
   },
   "outputs": [],
   "source": [
    "amazon = ['amazon.de', 'amazon.com']"
   ]
  },
  {
   "cell_type": "code",
   "execution_count": 178,
   "metadata": {},
   "outputs": [],
   "source": [
    "df['to'] = df['to'].apply(lambda x: rename(x, jsd, 'me'))\n",
    "df['to'] = df['to'].apply(lambda x: rename(x, mjc, 'Cote'))\n",
    "df['to'] = df['to'].apply(lambda x: rename(x, vak, 'Alan K.'))\n",
    "df['to'] = df['to'].apply(lambda x: rename(x, coll, 'collaborators'))\n",
    "df['to'] = df['to'].apply(lambda x: rename(x, juan, 'Juan M.'))\n",
    "df['to'] = df['to'].apply(lambda x: rename(x, crm, 'Cristian M.'))\n",
    "df['to'] = df['to'].apply(lambda x: rename(x, rob, 'Roberto L.'))"
   ]
  },
  {
   "cell_type": "code",
   "execution_count": 179,
   "metadata": {},
   "outputs": [
    {
     "data": {
      "text/plain": [
       "Cote             5345\n",
       "Alan K.          1696\n",
       "collaborators    1132\n",
       "Juan M.           579\n",
       "Cristian M.       512\n",
       "Roberto L.        422\n",
       "Name: to, dtype: int64"
      ]
     },
     "execution_count": 179,
     "metadata": {},
     "output_type": "execute_result"
    }
   ],
   "source": [
    "df['to'].value_counts()[1:7]"
   ]
  },
  {
   "cell_type": "markdown",
   "metadata": {},
   "source": [
    "This shows `nan`"
   ]
  },
  {
   "cell_type": "code",
   "execution_count": 169,
   "metadata": {
    "collapsed": true
   },
   "outputs": [],
   "source": [
    "df = df[df['to'] != 'nan']\n",
    "df = df.reset_index(drop=True)"
   ]
  },
  {
   "cell_type": "code",
   "execution_count": 182,
   "metadata": {},
   "outputs": [
    {
     "data": {
      "text/plain": [
       "Cote             5345\n",
       "Alan K.          1696\n",
       "collaborators    1132\n",
       "Juan M.           579\n",
       "Cristian M.       512\n",
       "Roberto L.        422\n",
       "Name: to, dtype: int64"
      ]
     },
     "execution_count": 182,
     "metadata": {},
     "output_type": "execute_result"
    }
   ],
   "source": [
    "df['to'].value_counts()[1:7]"
   ]
  },
  {
   "cell_type": "code",
   "execution_count": 180,
   "metadata": {},
   "outputs": [],
   "source": [
    "df['from'] = df['from'].apply(lambda x: rename(x, jsd, 'me'))\n",
    "df['from'] = df['from'].apply(lambda x: rename(x, mjc, 'Cote'))\n",
    "df['from'] = df['from'].apply(lambda x: rename(x, vak, 'Alan K.'))\n",
    "df['from'] = df['from'].apply(lambda x: rename(x, coll, 'collaborators'))\n",
    "df['from'] = df['from'].apply(lambda x: rename(x, amazon, 'Amazon.com'))\n",
    "df['from'] = df['from'].apply(lambda x: rename(x, juan, 'Juan M.'))\n",
    "df['from'] = df['from'].apply(lambda x: rename(x, crm, 'Cristian M.'))\n",
    "df['from'] = df['from'].apply(lambda x: rename(x, rob, 'Roberto L.'))"
   ]
  },
  {
   "cell_type": "code",
   "execution_count": 183,
   "metadata": {},
   "outputs": [
    {
     "data": {
      "text/plain": [
       "Cote             5999\n",
       "Alan K.          1733\n",
       "collaborators    1360\n",
       "Amazon.com       1202\n",
       "Cristian M.       668\n",
       "Juan M.           508\n",
       "Roberto L.        461\n",
       "Name: from, dtype: int64"
      ]
     },
     "execution_count": 183,
     "metadata": {},
     "output_type": "execute_result"
    }
   ],
   "source": [
    "df['from'].value_counts()[1:8]"
   ]
  },
  {
   "cell_type": "code",
   "execution_count": 124,
   "metadata": {},
   "outputs": [
    {
     "name": "stdout",
     "output_type": "stream",
     "text": [
      "from Alan K.: 1733\n",
      "to   Alan K.: 1696\n"
     ]
    }
   ],
   "source": [
    "for name in ['Alan K.']:\n",
    "    print('from', name + ':', len(df[df['from'] == name]))\n",
    "    print('to  ', name + ':', len(df[df['to'] == name]))"
   ]
  },
  {
   "cell_type": "code",
   "execution_count": 125,
   "metadata": {},
   "outputs": [
    {
     "data": {
      "image/png": "[encoded data removed]",
      "text/plain": [
       "<matplotlib.figure.Figure at 0x21d6a8f4cf8>"
      ]
     },
     "metadata": {},
     "output_type": "display_data"
    }
   ],
   "source": [
    "df['from'].value_counts()[1:8].plot(kind='barh', color='g', alpha=0.6).invert_yaxis()\n",
    "plt.title('emails from');"
   ]
  },
  {
   "cell_type": "code",
   "execution_count": 126,
   "metadata": {},
   "outputs": [
    {
     "data": {
      "image/png": "[encoded data removed]",
      "text/plain": [
       "<matplotlib.figure.Figure at 0x21d6a4808d0>"
      ]
     },
     "metadata": {},
     "output_type": "display_data"
    }
   ],
   "source": [
    "df['to'].value_counts()[1:7].plot(kind='barh', color='r', alpha=0.6).invert_yaxis()\n",
    "plt.title('emails to');"
   ]
  },
  {
   "cell_type": "code",
   "execution_count": 162,
   "metadata": {
    "collapsed": true
   },
   "outputs": [],
   "source": [
    "name = 'collaborators' #'Alan K.'\n",
    "mess_from = df[['date']][df['from'] == name]\n",
    "mess_to = df[['date']][df['to'] == name]"
   ]
  },
  {
   "cell_type": "code",
   "execution_count": 163,
   "metadata": {
    "collapsed": true
   },
   "outputs": [],
   "source": [
    "mess_from.set_index('date', drop=False, inplace=True)\n",
    "mess_to.set_index('date', drop=False, inplace=True)"
   ]
  },
  {
   "cell_type": "code",
   "execution_count": 164,
   "metadata": {
    "collapsed": true
   },
   "outputs": [],
   "source": [
    "counts_to = [1 for _ in range(len(mess_to))]\n",
    "counts_from = [1 for _ in range(len(mess_from))]\n",
    "mess_to['counts'] = counts_to\n",
    "mess_from['counts'] = counts_from"
   ]
  },
  {
   "cell_type": "code",
   "execution_count": 165,
   "metadata": {
    "collapsed": true
   },
   "outputs": [],
   "source": [
    "del mess_from['date']\n",
    "del mess_to['date']"
   ]
  },
  {
   "cell_type": "code",
   "execution_count": 166,
   "metadata": {},
   "outputs": [
    {
     "name": "stderr",
     "output_type": "stream",
     "text": [
      "C:\\Users\\jsdiaz\\Anaconda3\\lib\\site-packages\\ipykernel_launcher.py:1: FutureWarning: using a dict with renaming is deprecated and will be removed in a future version\n",
      "  \"\"\"Entry point for launching an IPython kernel.\n",
      "C:\\Users\\jsdiaz\\Anaconda3\\lib\\site-packages\\ipykernel_launcher.py:2: FutureWarning: using a dict with renaming is deprecated and will be removed in a future version\n",
      "  \n"
     ]
    },
    {
     "data": {
      "image/png": "[encoded data removed]",
      "text/plain": [
       "<matplotlib.figure.Figure at 0x21d6a912588>"
      ]
     },
     "metadata": {},
     "output_type": "display_data"
    },
    {
     "data": {
      "image/png": "[encoded data removed]",
      "text/plain": [
       "<matplotlib.figure.Figure at 0x21d6a912320>"
      ]
     },
     "metadata": {},
     "output_type": "display_data"
    }
   ],
   "source": [
    "b = mess_from.resample('W').apply({'score':'count'})\n",
    "c = mess_to.resample('W').apply({'score':'count'})\n",
    "b.plot(color='g')\n",
    "plt.title('messages from {}'.format(name))\n",
    "plt.ylabel('number')\n",
    "plt.xlabel('year');\n",
    "\n",
    "c.plot(color='r')\n",
    "plt.title('messages to {}'.format(name))\n",
    "plt.ylabel('number')\n",
    "plt.xlabel('year');"
   ]
  },
  {
   "cell_type": "code",
   "execution_count": 167,
   "metadata": {},
   "outputs": [
    {
     "data": {
      "image/png": "[encoded data removed]",
      "text/plain": [
       "<matplotlib.figure.Figure at 0x21d6a912b00>"
      ]
     },
     "metadata": {},
     "output_type": "display_data"
    }
   ],
   "source": [
    "b['2012-01-01 00:00:00+00:00':'2017-01-01 00:00:00+00:00'].plot(color='g')\n",
    "plt.title('messages from {}'.format(name))\n",
    "plt.ylabel('number')\n",
    "plt.xlabel('year');"
   ]
  },
  {
   "cell_type": "code",
   "execution_count": null,
   "metadata": {
    "collapsed": true
   },
   "outputs": [],
   "source": []
  },
  {
   "cell_type": "code",
   "execution_count": null,
   "metadata": {},
   "outputs": [],
   "source": []
  },
  {
   "cell_type": "code",
   "execution_count": null,
   "metadata": {
    "collapsed": true
   },
   "outputs": [],
   "source": []
  },
  {
   "cell_type": "code",
   "execution_count": 184,
   "metadata": {
    "collapsed": true
   },
   "outputs": [],
   "source": [
    "from collections import Counter"
   ]
  },
  {
   "cell_type": "code",
   "execution_count": 236,
   "metadata": {},
   "outputs": [],
   "source": [
    "all_wrds = []\n",
    "for wrds in list(df['subject'][df['to'] == 'me']):\n",
    "    all_wrds.extend(str(wrds).lower().split())"
   ]
  },
  {
   "cell_type": "code",
   "execution_count": 237,
   "metadata": {},
   "outputs": [
    {
     "data": {
      "text/plain": [
       "['your', 'google', 'data', 'archive', 'is', 'ready']"
      ]
     },
     "execution_count": 237,
     "metadata": {},
     "output_type": "execute_result"
    }
   ],
   "source": [
    "all_wrds[:6]"
   ]
  },
  {
   "cell_type": "code",
   "execution_count": null,
   "metadata": {
    "collapsed": true
   },
   "outputs": [],
   "source": []
  },
  {
   "cell_type": "code",
   "execution_count": 246,
   "metadata": {},
   "outputs": [],
   "source": [
    "from nltk.corpus import stopwords\n",
    "stopwords_en = set(stopwords.words('english'))\n",
    "stopwords_es = set(stopwords.words('spanish'))\n",
    "all_stopwords = stopwords_en | stopwords_es | set(my_stopwords)"
   ]
  },
  {
   "cell_type": "code",
   "execution_count": 251,
   "metadata": {
    "collapsed": true
   },
   "outputs": [],
   "source": [
    "my_stopwords = ['re:', 'nan', 'none', '-', 'fwd:', 'fw:', '&', 'hola', 'order', 'amazon.com']"
   ]
  },
  {
   "cell_type": "code",
   "execution_count": 247,
   "metadata": {},
   "outputs": [
    {
     "data": {
      "text/plain": [
       "59475"
      ]
     },
     "execution_count": 247,
     "metadata": {},
     "output_type": "execute_result"
    }
   ],
   "source": [
    "len(all_wrds)"
   ]
  },
  {
   "cell_type": "code",
   "execution_count": 248,
   "metadata": {},
   "outputs": [],
   "source": [
    "all_wrds = [wrd for wrd in all_wrds if wrd not in all_stopwords]"
   ]
  },
  {
   "cell_type": "code",
   "execution_count": 249,
   "metadata": {},
   "outputs": [
    {
     "data": {
      "text/plain": [
       "58393"
      ]
     },
     "execution_count": 249,
     "metadata": {},
     "output_type": "execute_result"
    }
   ],
   "source": [
    "len(all_wrds)"
   ]
  },
  {
   "cell_type": "code",
   "execution_count": 250,
   "metadata": {
    "collapsed": true
   },
   "outputs": [],
   "source": [
    "a = Counter(all_wrds)"
   ]
  },
  {
   "cell_type": "code",
   "execution_count": 253,
   "metadata": {},
   "outputs": [
    {
     "data": {
      "text/plain": [
       "[('question', 296),\n",
       " ('paper', 277),\n",
       " ('new', 275),\n",
       " ('physics', 263),\n",
       " ('lorentz', 242),\n",
       " ('consulta', 241),\n",
       " ('meeting', 218),\n",
       " ('saludos', 211),\n",
       " ('library', 199),\n",
       " ('update', 172),\n",
       " ('application', 167),\n",
       " ('reminder', 167),\n",
       " ('report', 165),\n",
       " ('ready', 162),\n",
       " ('amazon.de', 161),\n",
       " ('jorge', 160),\n",
       " ('diaz', 160),\n",
       " ('confirmation', 157),\n",
       " ('violation', 155),\n",
       " ('pregunta', 151)]"
      ]
     },
     "execution_count": 253,
     "metadata": {},
     "output_type": "execute_result"
    }
   ],
   "source": [
    "a.most_common(20)"
   ]
  },
  {
   "cell_type": "code",
   "execution_count": null,
   "metadata": {
    "collapsed": true
   },
   "outputs": [],
   "source": []
  },
  {
   "cell_type": "code",
   "execution_count": null,
   "metadata": {
    "collapsed": true
   },
   "outputs": [],
   "source": []
  }
 ],
 "metadata": {
  "kernelspec": {
   "display_name": "Python 3",
   "language": "python",
   "name": "python3"
  },
  "language_info": {
   "codemirror_mode": {
    "name": "ipython",
    "version": 3
   },
   "file_extension": ".py",
   "mimetype": "text/x-python",
   "name": "python",
   "nbconvert_exporter": "python",
   "pygments_lexer": "ipython3",
   "version": "3.6.1"
  }
 },
 "nbformat": 4,
 "nbformat_minor": 2
}
